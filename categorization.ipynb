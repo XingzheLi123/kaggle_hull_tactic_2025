{
 "cells": [
  {
   "cell_type": "code",
   "execution_count": 15,
   "id": "5ae94b23",
   "metadata": {},
   "outputs": [
    {
     "name": "stdout",
     "output_type": "stream",
     "text": [
      "Requirement already satisfied: numpy in ./.venv/lib/python3.13/site-packages (2.3.4)\n",
      "Note: you may need to restart the kernel to use updated packages.\n"
     ]
    }
   ],
   "source": [
    "pip install numpy"
   ]
  },
  {
   "cell_type": "code",
   "execution_count": 16,
   "id": "9e6aac27",
   "metadata": {},
   "outputs": [],
   "source": [
    "import pandas as pd\n",
    "import matplotlib.pyplot as plt\n",
    "import numpy as np"
   ]
  },
  {
   "cell_type": "code",
   "execution_count": 9,
   "id": "f9696586",
   "metadata": {},
   "outputs": [],
   "source": [
    "train_df = pd.read_csv('train.csv')\n",
    "test_df = pd.read_csv('test.csv')"
   ]
  },
  {
   "cell_type": "code",
   "execution_count": 19,
   "id": "558df393",
   "metadata": {},
   "outputs": [
    {
     "data": {
      "text/plain": [
       "Index(['date_id', 'D1', 'D2', 'D3', 'D4', 'D5', 'D6', 'D7', 'D8', 'D9', 'E1',\n",
       "       'E10', 'E11', 'E12', 'E13', 'E14', 'E15', 'E16', 'E17', 'E18', 'E19',\n",
       "       'E2', 'E20', 'E3', 'E4', 'E5', 'E6', 'E7', 'E8', 'E9', 'I1', 'I2', 'I3',\n",
       "       'I4', 'I5', 'I6', 'I7', 'I8', 'I9', 'M1', 'M10', 'M11', 'M12', 'M13',\n",
       "       'M14', 'M15', 'M16', 'M17', 'M18', 'M2', 'M3', 'M4', 'M5', 'M6', 'M7',\n",
       "       'M8', 'M9', 'P1', 'P10', 'P11', 'P12', 'P13', 'P2', 'P3', 'P4', 'P5',\n",
       "       'P6', 'P7', 'P8', 'P9', 'S1', 'S10', 'S11', 'S12', 'S2', 'S3', 'S4',\n",
       "       'S5', 'S6', 'S7', 'S8', 'S9', 'V1', 'V10', 'V11', 'V12', 'V13', 'V2',\n",
       "       'V3', 'V4', 'V5', 'V6', 'V7', 'V8', 'V9', 'forward_returns',\n",
       "       'risk_free_rate', 'market_forward_excess_returns'],\n",
       "      dtype='object')"
      ]
     },
     "execution_count": 19,
     "metadata": {},
     "output_type": "execute_result"
    }
   ],
   "source": [
    "train_df.columns"
   ]
  },
  {
   "cell_type": "code",
   "execution_count": 12,
   "id": "a541f0d9",
   "metadata": {},
   "outputs": [
    {
     "data": {
      "text/plain": [
       "<Axes: >"
      ]
     },
     "execution_count": 12,
     "metadata": {},
     "output_type": "execute_result"
    },
    {
     "data": {
      "image/png": "[encoded data removed]",
      "text/plain": [
       "<Figure size 640x480 with 1 Axes>"
      ]
     },
     "metadata": {},
     "output_type": "display_data"
    }
   ],
   "source": [
    "train_df['forward_returns'].hist(bins=50)"
   ]
  },
  {
   "cell_type": "markdown",
   "id": "f0cccb28",
   "metadata": {},
   "source": [
    "#### customized features/targets (C)\n",
    "C1: within 3 std (0); larger than mean+3std (+1); smaller than mean-3std (-1)"
   ]
  },
  {
   "cell_type": "code",
   "execution_count": 20,
   "id": "7393c4e7",
   "metadata": {},
   "outputs": [],
   "source": [
    "mean = train_df['forward_returns'].mean()\n",
    "std = train_df['forward_returns'].std()\n",
    "\n",
    "train_df['C1'] = np.where(\n",
    "    train_df['forward_returns'] > mean + 3*std,  1,\n",
    "    np.where(train_df['forward_returns'] < mean - 3*std, -1, 0)\n",
    ")"
   ]
  },
  {
   "cell_type": "code",
   "execution_count": 23,
   "id": "c7b342f6",
   "metadata": {},
   "outputs": [
    {
     "data": {
      "text/plain": [
       "C1\n",
       " 0    8810\n",
       "-1      94\n",
       " 1      86\n",
       "Name: count, dtype: int64"
      ]
     },
     "execution_count": 23,
     "metadata": {},
     "output_type": "execute_result"
    }
   ],
   "source": [
    "train_df['C1'].value_counts()"
   ]
  },
  {
   "cell_type": "markdown",
   "id": "bcfea698",
   "metadata": {},
   "source": [
    "#### Train a categorization model that is able to predict C1"
   ]
  },
  {
   "cell_type": "markdown",
   "id": "09b70781",
   "metadata": {},
   "source": []
  }
 ],
 "metadata": {
  "kernelspec": {
   "display_name": ".venv",
   "language": "python",
   "name": "python3"
  },
  "language_info": {
   "codemirror_mode": {
    "name": "ipython",
    "version": 3
   },
   "file_extension": ".py",
   "mimetype": "text/x-python",
   "name": "python",
   "nbconvert_exporter": "python",
   "pygments_lexer": "ipython3",
   "version": "3.13.2"
  }
 },
 "nbformat": 4,
 "nbformat_minor": 5
}
